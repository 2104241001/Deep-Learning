{
 "cells": [
  {
   "cell_type": "code",
   "execution_count": null,
   "id": "83bb4786",
   "metadata": {},
   "outputs": [],
   "source": [
    "#05 线性代数"
   ]
  },
  {
   "cell_type": "code",
   "execution_count": null,
   "id": "585eeeb6-508c-4974-880b-2518bf4e810a",
   "metadata": {},
   "outputs": [],
   "source": [
    "#标量由只有一个元素的张量表示"
   ]
  },
  {
   "cell_type": "code",
   "execution_count": 5,
   "id": "0a4a7295-abe5-4101-8457-b63c440945bd",
   "metadata": {},
   "outputs": [
    {
     "data": {
      "text/plain": [
       "(tensor([5.]), tensor([6.]), tensor([1.5000]), tensor([9.]))"
      ]
     },
     "execution_count": 5,
     "metadata": {},
     "output_type": "execute_result"
    }
   ],
   "source": [
    "import torch\n",
    "x=torch.tensor([3.0])  \n",
    "y=torch.tensor([2.0])\n",
    "x+y,x*y,x/y,x**y"
   ]
  },
  {
   "cell_type": "code",
   "execution_count": null,
   "id": "c1f9e7da-7a23-481a-bd02-374d7faf6d85",
   "metadata": {},
   "outputs": [],
   "source": [
    "#创建向量：向量是由标量值组成的列表"
   ]
  },
  {
   "cell_type": "code",
   "execution_count": 5,
   "id": "2ed7864d-e38d-468f-85fa-25407b4bd362",
   "metadata": {},
   "outputs": [
    {
     "data": {
      "text/plain": [
       "tensor([0, 1, 2, 3])"
      ]
     },
     "execution_count": 5,
     "metadata": {},
     "output_type": "execute_result"
    }
   ],
   "source": [
    "x=torch.arange(4)\n",
    "x"
   ]
  },
  {
   "cell_type": "code",
   "execution_count": null,
   "id": "189b7632-9823-4644-847d-59bf9d5f7d4c",
   "metadata": {},
   "outputs": [],
   "source": [
    "#通过张量的索引来访问向量的任一元素"
   ]
  },
  {
   "cell_type": "code",
   "execution_count": 6,
   "id": "0a07a673-f31a-49ea-94be-ce989c7666bd",
   "metadata": {},
   "outputs": [
    {
     "data": {
      "text/plain": [
       "tensor(3)"
      ]
     },
     "execution_count": 6,
     "metadata": {},
     "output_type": "execute_result"
    }
   ],
   "source": [
    "x[3]"
   ]
  },
  {
   "cell_type": "code",
   "execution_count": null,
   "id": "31b11238-e94c-4624-a4e8-9d530da6c8ff",
   "metadata": {},
   "outputs": [],
   "source": [
    "#访问张量的长度"
   ]
  },
  {
   "cell_type": "code",
   "execution_count": 7,
   "id": "629f706f-05b1-4573-a3c0-4a30b6311179",
   "metadata": {},
   "outputs": [
    {
     "data": {
      "text/plain": [
       "4"
      ]
     },
     "execution_count": 7,
     "metadata": {},
     "output_type": "execute_result"
    }
   ],
   "source": [
    "len(x)"
   ]
  },
  {
   "cell_type": "code",
   "execution_count": null,
   "id": "073ae17f-986a-4067-8520-e67fefaa544e",
   "metadata": {},
   "outputs": [],
   "source": [
    "#只有一个轴的张量，形状只有一个元素"
   ]
  },
  {
   "cell_type": "code",
   "execution_count": 8,
   "id": "82cf0037-8c1e-44ec-91d9-412d5b07fefa",
   "metadata": {},
   "outputs": [
    {
     "data": {
      "text/plain": [
       "torch.Size([4])"
      ]
     },
     "execution_count": 8,
     "metadata": {},
     "output_type": "execute_result"
    }
   ],
   "source": [
    "x.shape"
   ]
  },
  {
   "cell_type": "code",
   "execution_count": null,
   "id": "f9f7d3c3-ba24-4093-99b8-d013d8b736d9",
   "metadata": {},
   "outputs": [],
   "source": [
    "#创建矩阵：指定两个分量m和n来创建一个形状为m*n的矩阵"
   ]
  },
  {
   "cell_type": "code",
   "execution_count": 9,
   "id": "0ab29e17-b84e-4d5c-9f3e-66478f05773b",
   "metadata": {},
   "outputs": [
    {
     "data": {
      "text/plain": [
       "tensor([[ 0,  1,  2,  3],\n",
       "        [ 4,  5,  6,  7],\n",
       "        [ 8,  9, 10, 11],\n",
       "        [12, 13, 14, 15],\n",
       "        [16, 17, 18, 19]])"
      ]
     },
     "execution_count": 9,
     "metadata": {},
     "output_type": "execute_result"
    }
   ],
   "source": [
    "A=torch.arange(20).reshape(5,4)\n",
    "A"
   ]
  },
  {
   "cell_type": "code",
   "execution_count": null,
   "id": "fd74bdc0-bfeb-4116-8c4a-80442d7503f7",
   "metadata": {},
   "outputs": [],
   "source": [
    "#矩阵的转置："
   ]
  },
  {
   "cell_type": "code",
   "execution_count": 10,
   "id": "99c49996-7cc8-4561-a31a-4f00a046fc02",
   "metadata": {},
   "outputs": [
    {
     "data": {
      "text/plain": [
       "tensor([[ 0,  4,  8, 12, 16],\n",
       "        [ 1,  5,  9, 13, 17],\n",
       "        [ 2,  6, 10, 14, 18],\n",
       "        [ 3,  7, 11, 15, 19]])"
      ]
     },
     "execution_count": 10,
     "metadata": {},
     "output_type": "execute_result"
    }
   ],
   "source": [
    "A.T"
   ]
  },
  {
   "cell_type": "code",
   "execution_count": null,
   "id": "56c289f3-a40c-4fed-9503-28a46acb068d",
   "metadata": {},
   "outputs": [],
   "source": [
    "#对称矩阵A等于其转置   A=A^T  (对称轴i=j上任意)"
   ]
  },
  {
   "cell_type": "code",
   "execution_count": 13,
   "id": "ced457b1-afd7-41a0-aacd-7b1677496017",
   "metadata": {},
   "outputs": [
    {
     "data": {
      "text/plain": [
       "tensor([[1, 2, 3],\n",
       "        [2, 0, 4],\n",
       "        [3, 4, 5]])"
      ]
     },
     "execution_count": 13,
     "metadata": {},
     "output_type": "execute_result"
    }
   ],
   "source": [
    "B=torch.tensor([[1,2,3],[2,0,4],[3,4,5]])\n",
    "B"
   ]
  },
  {
   "cell_type": "code",
   "execution_count": 14,
   "id": "19f0652f-752f-4768-9bb0-21130b6ef8b7",
   "metadata": {},
   "outputs": [
    {
     "data": {
      "text/plain": [
       "tensor([[True, True, True],\n",
       "        [True, True, True],\n",
       "        [True, True, True]])"
      ]
     },
     "execution_count": 14,
     "metadata": {},
     "output_type": "execute_result"
    }
   ],
   "source": [
    "B==B.T"
   ]
  },
  {
   "cell_type": "code",
   "execution_count": null,
   "id": "a7563ad6-3db4-4657-b4b8-2d81e4983eec",
   "metadata": {},
   "outputs": [],
   "source": [
    "#就像标量推向量，向量推矩阵一样，可以构建具有更多轴的数据结构"
   ]
  },
  {
   "cell_type": "code",
   "execution_count": 15,
   "id": "52c4ceb6-1c4f-4f3d-929f-fd7aff158850",
   "metadata": {},
   "outputs": [
    {
     "data": {
      "text/plain": [
       "tensor([[[ 0,  1,  2,  3],\n",
       "         [ 4,  5,  6,  7],\n",
       "         [ 8,  9, 10, 11]],\n",
       "\n",
       "        [[12, 13, 14, 15],\n",
       "         [16, 17, 18, 19],\n",
       "         [20, 21, 22, 23]]])"
      ]
     },
     "execution_count": 15,
     "metadata": {},
     "output_type": "execute_result"
    }
   ],
   "source": [
    "X=torch.arange(24).reshape(2,3,4)  #注意(24=2*3*4)\n",
    "X"
   ]
  },
  {
   "cell_type": "code",
   "execution_count": null,
   "id": "108e5d1c-0099-412e-b8eb-3430d2643f38",
   "metadata": {},
   "outputs": [],
   "source": [
    "#给定具有形同形状的任何两个张量，任何按元素二元运算的结果都将是相同形状的张量"
   ]
  },
  {
   "cell_type": "code",
   "execution_count": 17,
   "id": "3f887daf-19ef-4c1e-b4da-b1efa0949f3c",
   "metadata": {},
   "outputs": [
    {
     "data": {
      "text/plain": [
       "(tensor([[ 0.,  1.,  2.,  3.],\n",
       "         [ 4.,  5.,  6.,  7.],\n",
       "         [ 8.,  9., 10., 11.],\n",
       "         [12., 13., 14., 15.],\n",
       "         [16., 17., 18., 19.]]),\n",
       " tensor([[ 0.,  2.,  4.,  6.],\n",
       "         [ 8., 10., 12., 14.],\n",
       "         [16., 18., 20., 22.],\n",
       "         [24., 26., 28., 30.],\n",
       "         [32., 34., 36., 38.]]),\n",
       " tensor([[ 0.,  3.,  6.,  9.],\n",
       "         [12., 15., 18., 21.],\n",
       "         [24., 27., 30., 33.],\n",
       "         [36., 39., 42., 45.],\n",
       "         [48., 51., 54., 57.]]))"
      ]
     },
     "execution_count": 17,
     "metadata": {},
     "output_type": "execute_result"
    }
   ],
   "source": [
    "A=torch.arange(20,dtype=torch.float32).reshape(5,4)\n",
    "B=A.clone() #通过分配新内存，将A的一个副本分配给B(前面讲过B=A,这个不会分配新内存)\n",
    "A,A+B,A+B+B"
   ]
  },
  {
   "cell_type": "code",
   "execution_count": null,
   "id": "ba0790d9-64d1-4690-85d0-91379c4a47f4",
   "metadata": {},
   "outputs": [],
   "source": [
    "#两个矩阵的按元素乘法称为 哈达玛积"
   ]
  },
  {
   "cell_type": "code",
   "execution_count": 18,
   "id": "a5fd14b5-650c-4ac7-898a-54582aa27a63",
   "metadata": {},
   "outputs": [
    {
     "data": {
      "text/plain": [
       "tensor([[  0.,   1.,   4.,   9.],\n",
       "        [ 16.,  25.,  36.,  49.],\n",
       "        [ 64.,  81., 100., 121.],\n",
       "        [144., 169., 196., 225.],\n",
       "        [256., 289., 324., 361.]])"
      ]
     },
     "execution_count": 18,
     "metadata": {},
     "output_type": "execute_result"
    }
   ],
   "source": [
    "A*B"
   ]
  },
  {
   "cell_type": "code",
   "execution_count": null,
   "id": "e2d55d4d-5933-4c65-8f36-ec0c3727e409",
   "metadata": {},
   "outputs": [],
   "source": [
    "#前面讲过标量和矩阵的运算：标量加入矩阵，标量乘以矩阵"
   ]
  },
  {
   "cell_type": "code",
   "execution_count": 30,
   "id": "3b0bc8fe-96bc-45ca-bc4b-7348f7b26cf7",
   "metadata": {},
   "outputs": [
    {
     "data": {
      "text/plain": [
       "(tensor([[[ 0,  1,  2,  3],\n",
       "          [ 4,  5,  6,  7],\n",
       "          [ 8,  9, 10, 11]],\n",
       " \n",
       "         [[12, 13, 14, 15],\n",
       "          [16, 17, 18, 19],\n",
       "          [20, 21, 22, 23]]]),\n",
       " tensor([[[ 2,  3,  4,  5],\n",
       "          [ 6,  7,  8,  9],\n",
       "          [10, 11, 12, 13]],\n",
       " \n",
       "         [[14, 15, 16, 17],\n",
       "          [18, 19, 20, 21],\n",
       "          [22, 23, 24, 25]]]),\n",
       " tensor([ 2,  1,  0, -1]),\n",
       " tensor([-2, -1,  0,  1]),\n",
       " tensor([0, 2, 4, 6]),\n",
       " torch.Size([2, 3, 4]))"
      ]
     },
     "execution_count": 30,
     "metadata": {},
     "output_type": "execute_result"
    }
   ],
   "source": [
    "a=2                            #标量，与a=torch.tensor([2])效果一样\n",
    "X=torch.arange(24).reshape(2,3,4)\n",
    "X,a+X,a-x,x-a,a*x,(a*X).shape #除加法外，其它的打印不全，可以设置打印选项torch.set_printoptions(threshold=10000)"
   ]
  },
  {
   "cell_type": "code",
   "execution_count": 8,
   "id": "f1f212fd-a5ed-4468-8c4f-a40abe8d5fd3",
   "metadata": {},
   "outputs": [
    {
     "data": {
      "text/plain": [
       "tensor([[[  2,   1,   0,  -1],\n",
       "         [ -2,  -3,  -4,  -5],\n",
       "         [ -6,  -7,  -8,  -9]],\n",
       "\n",
       "        [[-10, -11, -12, -13],\n",
       "         [-14, -15, -16, -17],\n",
       "         [-18, -19, -20, -21]]])"
      ]
     },
     "execution_count": 8,
     "metadata": {},
     "output_type": "execute_result"
    }
   ],
   "source": [
    "a=2                           \n",
    "X=torch.arange(24).reshape(2,3,4)\n",
    "torch.set_printoptions(threshold=10000)\n",
    "a-X"
   ]
  },
  {
   "cell_type": "code",
   "execution_count": 23,
   "id": "337b289f-fc68-43fc-9fa5-b7a10bdb491b",
   "metadata": {},
   "outputs": [
    {
     "data": {
      "text/plain": [
       "(tensor([[[ 0,  1,  2,  3],\n",
       "          [ 4,  5,  6,  7],\n",
       "          [ 8,  9, 10, 11]],\n",
       " \n",
       "         [[12, 13, 14, 15],\n",
       "          [16, 17, 18, 19],\n",
       "          [20, 21, 22, 23]]]),\n",
       " tensor([[[ 2,  3,  4,  5],\n",
       "          [ 6,  7,  8,  9],\n",
       "          [10, 11, 12, 13]],\n",
       " \n",
       "         [[14, 15, 16, 17],\n",
       "          [18, 19, 20, 21],\n",
       "          [22, 23, 24, 25]]]),\n",
       " tensor([ 2,  1,  0, -1]),\n",
       " tensor([-2, -1,  0,  1]),\n",
       " tensor([0, 2, 4, 6]),\n",
       " torch.Size([2, 3, 4]))"
      ]
     },
     "execution_count": 23,
     "metadata": {},
     "output_type": "execute_result"
    }
   ],
   "source": [
    "a=torch.tensor([2])\n",
    "X=torch.arange(24).reshape(2,3,4)\n",
    "X,a+X,a-x,x-a,a*x,(a*X).shape "
   ]
  },
  {
   "cell_type": "code",
   "execution_count": null,
   "id": "3397b569-dbe4-4882-bd8d-6f0c5f9b96b9",
   "metadata": {},
   "outputs": [],
   "source": [
    "#计算sum元素和"
   ]
  },
  {
   "cell_type": "code",
   "execution_count": 33,
   "id": "f105df9f-e6ca-48f4-b45b-d43f8943c7ae",
   "metadata": {},
   "outputs": [
    {
     "data": {
      "text/plain": [
       "(tensor([0., 1., 2., 3.]), tensor(6.))"
      ]
     },
     "execution_count": 33,
     "metadata": {},
     "output_type": "execute_result"
    }
   ],
   "source": [
    "x=torch.arange(4,dtype=torch.float32)\n",
    "x,x.sum()"
   ]
  },
  {
   "cell_type": "code",
   "execution_count": null,
   "id": "9a796ed7-c227-423c-9671-7ac726b49eae",
   "metadata": {},
   "outputs": [],
   "source": [
    "#任意张量的形状和元素和"
   ]
  },
  {
   "cell_type": "code",
   "execution_count": 39,
   "id": "f523b096-7d34-42b2-8220-9de5d50299fb",
   "metadata": {},
   "outputs": [
    {
     "data": {
      "text/plain": [
       "(torch.Size([5, 4]), tensor(190.))"
      ]
     },
     "execution_count": 39,
     "metadata": {},
     "output_type": "execute_result"
    }
   ],
   "source": [
    "A=torch.arange(20,dtype=torch.float32).reshape(5,4)\n",
    "A.shape,A.sum()"
   ]
  },
  {
   "cell_type": "code",
   "execution_count": 37,
   "id": "8d451e36-e18a-4954-846f-acfbe9ea1e60",
   "metadata": {},
   "outputs": [
    {
     "data": {
      "text/plain": [
       "(tensor([[[ 0.,  1.,  2.,  3.],\n",
       "          [ 4.,  5.,  6.,  7.],\n",
       "          [ 8.,  9., 10., 11.],\n",
       "          [12., 13., 14., 15.],\n",
       "          [16., 17., 18., 19.]],\n",
       " \n",
       "         [[20., 21., 22., 23.],\n",
       "          [24., 25., 26., 27.],\n",
       "          [28., 29., 30., 31.],\n",
       "          [32., 33., 34., 35.],\n",
       "          [36., 37., 38., 39.]]]),\n",
       " torch.Size([2, 5, 4]),\n",
       " tensor(780.))"
      ]
     },
     "execution_count": 37,
     "metadata": {},
     "output_type": "execute_result"
    }
   ],
   "source": [
    "A=torch.arange(20*2,dtype=torch.float32).reshape(2,5,4)\n",
    "A,A.shape,A.sum()"
   ]
  },
  {
   "cell_type": "code",
   "execution_count": 45,
   "id": "29e5f815-cb9f-4fbe-a05c-1ab8656f9ad4",
   "metadata": {},
   "outputs": [
    {
     "data": {
      "text/plain": [
       "(tensor([[[ 0.,  1.,  2.,  3.],\n",
       "          [ 4.,  5.,  6.,  7.],\n",
       "          [ 8.,  9., 10., 11.],\n",
       "          [12., 13., 14., 15.],\n",
       "          [16., 17., 18., 19.]],\n",
       " \n",
       "         [[20., 21., 22., 23.],\n",
       "          [24., 25., 26., 27.],\n",
       "          [28., 29., 30., 31.],\n",
       "          [32., 33., 34., 35.],\n",
       "          [36., 37., 38., 39.]]]),\n",
       " tensor([[20., 22., 24., 26.],\n",
       "         [28., 30., 32., 34.],\n",
       "         [36., 38., 40., 42.],\n",
       "         [44., 46., 48., 50.],\n",
       "         [52., 54., 56., 58.]]),\n",
       " torch.Size([5, 4]))"
      ]
     },
     "execution_count": 45,
     "metadata": {},
     "output_type": "execute_result"
    }
   ],
   "source": [
    "A=torch.arange(20*2,dtype=torch.float32).reshape(2,5,4)\n",
    "A_sum_axis0=A.sum(axis=0)       #按‘2’这个维度求和，‘2’没有了，剩下维度为5*4\n",
    "A,A_sum_axis0,A_sum_axis0.shape  #axis,英语翻译为轴"
   ]
  },
  {
   "cell_type": "code",
   "execution_count": 47,
   "id": "489872f1-cf7d-42b3-a4c5-efd6df54872d",
   "metadata": {},
   "outputs": [
    {
     "data": {
      "text/plain": [
       "(tensor([[[ 0.,  1.,  2.,  3.],\n",
       "          [ 4.,  5.,  6.,  7.],\n",
       "          [ 8.,  9., 10., 11.],\n",
       "          [12., 13., 14., 15.],\n",
       "          [16., 17., 18., 19.]],\n",
       " \n",
       "         [[20., 21., 22., 23.],\n",
       "          [24., 25., 26., 27.],\n",
       "          [28., 29., 30., 31.],\n",
       "          [32., 33., 34., 35.],\n",
       "          [36., 37., 38., 39.]]]),\n",
       " tensor([[ 40.,  45.,  50.,  55.],\n",
       "         [140., 145., 150., 155.]]),\n",
       " torch.Size([2, 4]))"
      ]
     },
     "execution_count": 47,
     "metadata": {},
     "output_type": "execute_result"
    }
   ],
   "source": [
    "A=torch.arange(20*2,dtype=torch.float32).reshape(2,5,4)\n",
    "A_sum_axis0=A.sum(axis=1)       #按‘5’这个维度求和，‘5’没有了（行没有了，对应列相加），剩下维度为2*4\n",
    "A,A_sum_axis0,A_sum_axis0.shape"
   ]
  },
  {
   "cell_type": "code",
   "execution_count": 48,
   "id": "06b1c720-5566-4c6d-ba11-c99ed4824029",
   "metadata": {},
   "outputs": [
    {
     "data": {
      "text/plain": [
       "(tensor([[[ 0.,  1.,  2.,  3.],\n",
       "          [ 4.,  5.,  6.,  7.],\n",
       "          [ 8.,  9., 10., 11.],\n",
       "          [12., 13., 14., 15.],\n",
       "          [16., 17., 18., 19.]],\n",
       " \n",
       "         [[20., 21., 22., 23.],\n",
       "          [24., 25., 26., 27.],\n",
       "          [28., 29., 30., 31.],\n",
       "          [32., 33., 34., 35.],\n",
       "          [36., 37., 38., 39.]]]),\n",
       " tensor([[  6.,  22.,  38.,  54.,  70.],\n",
       "         [ 86., 102., 118., 134., 150.]]),\n",
       " torch.Size([2, 5]))"
      ]
     },
     "execution_count": 48,
     "metadata": {},
     "output_type": "execute_result"
    }
   ],
   "source": [
    "A=torch.arange(20*2,dtype=torch.float32).reshape(2,5,4)\n",
    "A_sum_axis0=A.sum(axis=2)       #按‘4’这个维度求和，‘4’没有了（列没有了，对应行相加），剩下维度为2*5\n",
    "A,A_sum_axis0,A_sum_axis0.shape"
   ]
  },
  {
   "cell_type": "code",
   "execution_count": 51,
   "id": "7571d490-fc73-4b11-840d-9d21dc0334ce",
   "metadata": {},
   "outputs": [
    {
     "data": {
      "text/plain": [
       "(tensor([[[ 0.,  1.,  2.,  3.],\n",
       "          [ 4.,  5.,  6.,  7.],\n",
       "          [ 8.,  9., 10., 11.],\n",
       "          [12., 13., 14., 15.],\n",
       "          [16., 17., 18., 19.]],\n",
       " \n",
       "         [[20., 21., 22., 23.],\n",
       "          [24., 25., 26., 27.],\n",
       "          [28., 29., 30., 31.],\n",
       "          [32., 33., 34., 35.],\n",
       "          [36., 37., 38., 39.]]]),\n",
       " tensor([180., 190., 200., 210.]),\n",
       " torch.Size([4]))"
      ]
     },
     "execution_count": 51,
     "metadata": {},
     "output_type": "execute_result"
    }
   ],
   "source": [
    "A=torch.arange(20*2,dtype=torch.float32).reshape(2,5,4)\n",
    "A_sum_axis0=A.sum(axis=[0,1])   #按‘2’和‘5’这两个维度求和，剩下维度为4（4列）\n",
    "A,A_sum_axis0,A_sum_axis0.shape #3+7+11+15+19+23+27+31+35+39=210"
   ]
  },
  {
   "cell_type": "code",
   "execution_count": 52,
   "id": "b4cd4645-b2f0-486a-b8c5-10a743411036",
   "metadata": {},
   "outputs": [
    {
     "data": {
      "text/plain": [
       "(tensor([[[ 0.,  1.,  2.,  3.],\n",
       "          [ 4.,  5.,  6.,  7.],\n",
       "          [ 8.,  9., 10., 11.],\n",
       "          [12., 13., 14., 15.],\n",
       "          [16., 17., 18., 19.]],\n",
       " \n",
       "         [[20., 21., 22., 23.],\n",
       "          [24., 25., 26., 27.],\n",
       "          [28., 29., 30., 31.],\n",
       "          [32., 33., 34., 35.],\n",
       "          [36., 37., 38., 39.]]]),\n",
       " tensor([ 92., 124., 156., 188., 220.]),\n",
       " torch.Size([5]))"
      ]
     },
     "execution_count": 52,
     "metadata": {},
     "output_type": "execute_result"
    }
   ],
   "source": [
    "A=torch.arange(20*2,dtype=torch.float32).reshape(2,5,4)\n",
    "A_sum_axis0=A.sum(axis=[0,2])   #按‘2’和‘4’这两个维度求和，剩下维度为5（5行）\n",
    "A,A_sum_axis0,A_sum_axis0.shape  #16+17+18+19+36+37+38+39=220"
   ]
  },
  {
   "cell_type": "code",
   "execution_count": 53,
   "id": "fc0e7914-0c56-4e2d-9194-1a097c7fd683",
   "metadata": {},
   "outputs": [],
   "source": [
    "#任意张量的平均值(mean或average)"
   ]
  },
  {
   "cell_type": "code",
   "execution_count": 56,
   "id": "175152d8-048c-4696-a2a1-41a6f1db3b9a",
   "metadata": {},
   "outputs": [
    {
     "data": {
      "text/plain": [
       "(tensor([[[ 0.,  1.,  2.,  3.],\n",
       "          [ 4.,  5.,  6.,  7.],\n",
       "          [ 8.,  9., 10., 11.],\n",
       "          [12., 13., 14., 15.],\n",
       "          [16., 17., 18., 19.]],\n",
       " \n",
       "         [[20., 21., 22., 23.],\n",
       "          [24., 25., 26., 27.],\n",
       "          [28., 29., 30., 31.],\n",
       "          [32., 33., 34., 35.],\n",
       "          [36., 37., 38., 39.]]]),\n",
       " tensor(19.5000),\n",
       " tensor(19.5000))"
      ]
     },
     "execution_count": 56,
     "metadata": {},
     "output_type": "execute_result"
    }
   ],
   "source": [
    "A=torch.arange(20*2,dtype=torch.float32).reshape(2,5,4)\n",
    "A,A.mean(),A.sum()/A.numel()"
   ]
  },
  {
   "cell_type": "code",
   "execution_count": null,
   "id": "b45a9565-7e84-405a-95a8-7a771cfe5a2f",
   "metadata": {},
   "outputs": [],
   "source": [
    "#按某个维度来算均值"
   ]
  },
  {
   "cell_type": "code",
   "execution_count": 65,
   "id": "96fd98ae-6abc-42a7-8062-556443983122",
   "metadata": {},
   "outputs": [
    {
     "data": {
      "text/plain": [
       "(tensor([[[ 0.,  1.,  2.,  3.],\n",
       "          [ 4.,  5.,  6.,  7.],\n",
       "          [ 8.,  9., 10., 11.],\n",
       "          [12., 13., 14., 15.],\n",
       "          [16., 17., 18., 19.]],\n",
       " \n",
       "         [[20., 21., 22., 23.],\n",
       "          [24., 25., 26., 27.],\n",
       "          [28., 29., 30., 31.],\n",
       "          [32., 33., 34., 35.],\n",
       "          [36., 37., 38., 39.]]]),\n",
       " tensor([[10., 11., 12., 13.],\n",
       "         [14., 15., 16., 17.],\n",
       "         [18., 19., 20., 21.],\n",
       "         [22., 23., 24., 25.],\n",
       "         [26., 27., 28., 29.]]),\n",
       " tensor([[10., 11., 12., 13.],\n",
       "         [14., 15., 16., 17.],\n",
       "         [18., 19., 20., 21.],\n",
       "         [22., 23., 24., 25.],\n",
       "         [26., 27., 28., 29.]]),\n",
       " 2)"
      ]
     },
     "execution_count": 65,
     "metadata": {},
     "output_type": "execute_result"
    }
   ],
   "source": [
    "A=torch.arange(20*2,dtype=torch.float32).reshape(2,5,4)\n",
    "A,A.mean(axis=0),A.sum(axis=0)/A.shape[0],A.shape[0]#按‘2’这个维度求均值，剩下5*4，均值各元素除以2（shape[0]）\n",
    "#(19+39)/2=29"
   ]
  },
  {
   "cell_type": "code",
   "execution_count": 66,
   "id": "f57497b9-98bf-496b-ac2a-b33b1eba8710",
   "metadata": {},
   "outputs": [
    {
     "data": {
      "text/plain": [
       "(tensor([[[ 0.,  1.,  2.,  3.],\n",
       "          [ 4.,  5.,  6.,  7.],\n",
       "          [ 8.,  9., 10., 11.],\n",
       "          [12., 13., 14., 15.],\n",
       "          [16., 17., 18., 19.]],\n",
       " \n",
       "         [[20., 21., 22., 23.],\n",
       "          [24., 25., 26., 27.],\n",
       "          [28., 29., 30., 31.],\n",
       "          [32., 33., 34., 35.],\n",
       "          [36., 37., 38., 39.]]]),\n",
       " tensor([[ 8.,  9., 10., 11.],\n",
       "         [28., 29., 30., 31.]]),\n",
       " tensor([[ 8.,  9., 10., 11.],\n",
       "         [28., 29., 30., 31.]]),\n",
       " 2)"
      ]
     },
     "execution_count": 66,
     "metadata": {},
     "output_type": "execute_result"
    }
   ],
   "source": [
    "A=torch.arange(20*2,dtype=torch.float32).reshape(2,5,4)\n",
    "A,A.mean(axis=1),A.sum(axis=1)/A.shape[1],A.shape[1]#按‘5’这个维度求均值，剩下2*4，均值各元素除以5（shape[1]）\n",
    "#(23+27+31+35+39)/5=31"
   ]
  },
  {
   "cell_type": "code",
   "execution_count": null,
   "id": "ef543711-635c-4e2c-b8c9-61e6021e63dc",
   "metadata": {},
   "outputs": [],
   "source": [
    "#按维度求和会丢掉维度，想要保留的话加 keepdims=True   dims是单词dimession维度"
   ]
  },
  {
   "cell_type": "code",
   "execution_count": 6,
   "id": "73858b9e-939d-469c-8cd4-82de589cecab",
   "metadata": {
    "scrolled": true
   },
   "outputs": [
    {
     "data": {
      "text/plain": [
       "(tensor([[[ 0.,  1.,  2.,  3.],\n",
       "          [ 4.,  5.,  6.,  7.],\n",
       "          [ 8.,  9., 10., 11.],\n",
       "          [12., 13., 14., 15.],\n",
       "          [16., 17., 18., 19.]],\n",
       " \n",
       "         [[20., 21., 22., 23.],\n",
       "          [24., 25., 26., 27.],\n",
       "          [28., 29., 30., 31.],\n",
       "          [32., 33., 34., 35.],\n",
       "          [36., 37., 38., 39.]]]),\n",
       " tensor([[ 40.,  45.,  50.,  55.],\n",
       "         [140., 145., 150., 155.]]),\n",
       " torch.Size([2, 4]))"
      ]
     },
     "execution_count": 6,
     "metadata": {},
     "output_type": "execute_result"
    }
   ],
   "source": [
    "A=torch.arange(20*2,dtype=torch.float32).reshape(2,5,4)\n",
    "A_sum_axis0=A.sum(axis=1)       #按‘5’这个维度求和，‘5’没有了（行没有了，对应列相加），剩下维度为2*4\n",
    "A,A_sum_axis0,A_sum_axis0.shape"
   ]
  },
  {
   "cell_type": "code",
   "execution_count": 7,
   "id": "8884e4f6-35c9-4368-a193-6b943a60053a",
   "metadata": {
    "scrolled": true
   },
   "outputs": [
    {
     "data": {
      "text/plain": [
       "(tensor([[[ 40.,  45.,  50.,  55.]],\n",
       " \n",
       "         [[140., 145., 150., 155.]]]),\n",
       " torch.Size([2, 1, 4]))"
      ]
     },
     "execution_count": 7,
     "metadata": {},
     "output_type": "execute_result"
    }
   ],
   "source": [
    "sum_A=A.sum(axis=1,keepdims=True)#这样保留了维度，好处是可以通过广播机制将A除以sum_A\n",
    "sum_A,sum_A.shape  #23+27+31+35+39=155       #保留的维度为1 [2,5,4]变为[2,1,4]"
   ]
  },
  {
   "cell_type": "code",
   "execution_count": 72,
   "id": "3440da71-b105-408f-8386-68120563bae0",
   "metadata": {
    "scrolled": true
   },
   "outputs": [
    {
     "data": {
      "text/plain": [
       "tensor([[[0.0000, 0.0222, 0.0400, 0.0545],\n",
       "         [0.1000, 0.1111, 0.1200, 0.1273],\n",
       "         [0.2000, 0.2000, 0.2000, 0.2000],\n",
       "         [0.3000, 0.2889, 0.2800, 0.2727],\n",
       "         [0.4000, 0.3778, 0.3600, 0.3455]],\n",
       "\n",
       "        [[0.1429, 0.1448, 0.1467, 0.1484],\n",
       "         [0.1714, 0.1724, 0.1733, 0.1742],\n",
       "         [0.2000, 0.2000, 0.2000, 0.2000],\n",
       "         [0.2286, 0.2276, 0.2267, 0.2258],\n",
       "         [0.2571, 0.2552, 0.2533, 0.2516]]])"
      ]
     },
     "execution_count": 72,
     "metadata": {},
     "output_type": "execute_result"
    }
   ],
   "source": [
    "A/sum_A #23/155=0.1484\n",
    "        #27/155=0.1742"
   ]
  },
  {
   "cell_type": "code",
   "execution_count": 79,
   "id": "c56132a8-ed70-4384-8205-c2c20215a464",
   "metadata": {},
   "outputs": [
    {
     "data": {
      "text/plain": [
       "(tensor([[[ 0.,  1.,  2.,  3.],\n",
       "          [ 4.,  5.,  6.,  7.],\n",
       "          [ 8.,  9., 10., 11.],\n",
       "          [12., 13., 14., 15.],\n",
       "          [16., 17., 18., 19.]],\n",
       " \n",
       "         [[20., 21., 22., 23.],\n",
       "          [24., 25., 26., 27.],\n",
       "          [28., 29., 30., 31.],\n",
       "          [32., 33., 34., 35.],\n",
       "          [36., 37., 38., 39.]]]),\n",
       " tensor([[20., 22., 24., 26.],\n",
       "         [28., 30., 32., 34.],\n",
       "         [36., 38., 40., 42.],\n",
       "         [44., 46., 48., 50.],\n",
       "         [52., 54., 56., 58.]]),\n",
       " tensor([[[ 0.,  1.,  2.,  3.],\n",
       "          [ 4.,  5.,  6.,  7.],\n",
       "          [ 8.,  9., 10., 11.],\n",
       "          [12., 13., 14., 15.],\n",
       "          [16., 17., 18., 19.]],\n",
       " \n",
       "         [[20., 22., 24., 26.],\n",
       "          [28., 30., 32., 34.],\n",
       "          [36., 38., 40., 42.],\n",
       "          [44., 46., 48., 50.],\n",
       "          [52., 54., 56., 58.]]]))"
      ]
     },
     "execution_count": 79,
     "metadata": {},
     "output_type": "execute_result"
    }
   ],
   "source": [
    "#某个轴计算A元素的累计总和\n",
    "A,A.sum(axis=0),A.cumsum(axis=0) #16+36=52,17+37=54,18+38=56,19+39=58\n",
    "#后一个块为前面所有块对应相加"
   ]
  },
  {
   "cell_type": "code",
   "execution_count": 77,
   "id": "a0a497af-2fcb-40cf-b5b9-861cd793f55d",
   "metadata": {},
   "outputs": [
    {
     "data": {
      "text/plain": [
       "(tensor([[[ 0.,  1.,  2.,  3.],\n",
       "          [ 4.,  5.,  6.,  7.],\n",
       "          [ 8.,  9., 10., 11.],\n",
       "          [12., 13., 14., 15.],\n",
       "          [16., 17., 18., 19.]],\n",
       " \n",
       "         [[20., 21., 22., 23.],\n",
       "          [24., 25., 26., 27.],\n",
       "          [28., 29., 30., 31.],\n",
       "          [32., 33., 34., 35.],\n",
       "          [36., 37., 38., 39.]]]),\n",
       " tensor([[ 40.,  45.,  50.,  55.],\n",
       "         [140., 145., 150., 155.]]),\n",
       " tensor([[[  0.,   1.,   2.,   3.],\n",
       "          [  4.,   6.,   8.,  10.],\n",
       "          [ 12.,  15.,  18.,  21.],\n",
       "          [ 24.,  28.,  32.,  36.],\n",
       "          [ 40.,  45.,  50.,  55.]],\n",
       " \n",
       "         [[ 20.,  21.,  22.,  23.],\n",
       "          [ 44.,  46.,  48.,  50.],\n",
       "          [ 72.,  75.,  78.,  81.],\n",
       "          [104., 108., 112., 116.],\n",
       "          [140., 145., 150., 155.]]]))"
      ]
     },
     "execution_count": 77,
     "metadata": {},
     "output_type": "execute_result"
    }
   ],
   "source": [
    "#某个轴计算A元素的累计总和\n",
    "A,A.sum(axis=1),A.cumsum(axis=1) #下一行为上面所有行相加 \n",
    "                                # + 20 21 22 23 \n",
    "                                # + 24 25 26 27\n",
    "                                #=  44 46  48  50"
   ]
  },
  {
   "cell_type": "code",
   "execution_count": 78,
   "id": "254892a6-2d67-49da-a887-557bff78fc0c",
   "metadata": {},
   "outputs": [
    {
     "data": {
      "text/plain": [
       "(tensor([[[ 0.,  1.,  2.,  3.],\n",
       "          [ 4.,  5.,  6.,  7.],\n",
       "          [ 8.,  9., 10., 11.],\n",
       "          [12., 13., 14., 15.],\n",
       "          [16., 17., 18., 19.]],\n",
       " \n",
       "         [[20., 21., 22., 23.],\n",
       "          [24., 25., 26., 27.],\n",
       "          [28., 29., 30., 31.],\n",
       "          [32., 33., 34., 35.],\n",
       "          [36., 37., 38., 39.]]]),\n",
       " tensor([[  6.,  22.,  38.,  54.,  70.],\n",
       "         [ 86., 102., 118., 134., 150.]]),\n",
       " tensor([[[  0.,   1.,   3.,   6.],\n",
       "          [  4.,   9.,  15.,  22.],\n",
       "          [  8.,  17.,  27.,  38.],\n",
       "          [ 12.,  25.,  39.,  54.],\n",
       "          [ 16.,  33.,  51.,  70.]],\n",
       " \n",
       "         [[ 20.,  41.,  63.,  86.],\n",
       "          [ 24.,  49.,  75., 102.],\n",
       "          [ 28.,  57.,  87., 118.],\n",
       "          [ 32.,  65.,  99., 134.],\n",
       "          [ 36.,  73., 111., 150.]]]))"
      ]
     },
     "execution_count": 78,
     "metadata": {},
     "output_type": "execute_result"
    }
   ],
   "source": [
    "#某个轴计算A元素的累计总和(cumulation)\n",
    "A,A.sum(axis=2),A.cumsum(axis=2) #后一列为前面所有列相加"
   ]
  },
  {
   "cell_type": "code",
   "execution_count": 80,
   "id": "e6a128c5-7b87-41a9-90c2-bfd1b2fadc8b",
   "metadata": {},
   "outputs": [],
   "source": [
    "#向量的点积：点积是相同位置的按元素乘积的和(点积是和，区别前面矩阵的哈达玛积)"
   ]
  },
  {
   "cell_type": "code",
   "execution_count": 81,
   "id": "12b73b83-54a7-4e6e-905a-1d6216ab4569",
   "metadata": {},
   "outputs": [
    {
     "data": {
      "text/plain": [
       "(tensor([0., 1., 2., 3.]), tensor([1., 1., 1., 1.]), tensor(6.))"
      ]
     },
     "execution_count": 81,
     "metadata": {},
     "output_type": "execute_result"
    }
   ],
   "source": [
    "y=torch.ones(4,dtype=torch.float32)\n",
    "x,y,torch.dot(x,y)   #dot翻译为 点"
   ]
  },
  {
   "cell_type": "code",
   "execution_count": 83,
   "id": "3a713e0d-0a5f-49a7-9a39-c115007ac8a2",
   "metadata": {},
   "outputs": [
    {
     "data": {
      "text/plain": [
       "(tensor([0., 1., 2., 3.]), tensor(6.))"
      ]
     },
     "execution_count": 83,
     "metadata": {},
     "output_type": "execute_result"
    }
   ],
   "source": [
    "#点积等价于哈达玛积再求和\n",
    "x*y,torch.sum(x*y)"
   ]
  },
  {
   "cell_type": "code",
   "execution_count": null,
   "id": "b4b184bd-dbbb-41ca-8b42-6723f87214c5",
   "metadata": {},
   "outputs": [],
   "source": [
    "#矩阵与向量的积Ax是一个长度为m的列向量（A:m*n,x:n*1,Ax:m*1）"
   ]
  },
  {
   "cell_type": "code",
   "execution_count": 88,
   "id": "24a76a9d-8b49-4f0e-bc76-000720e1d62e",
   "metadata": {},
   "outputs": [
    {
     "data": {
      "text/plain": [
       "(tensor([[ 0.,  1.,  2.,  3.],\n",
       "         [ 4.,  5.,  6.,  7.],\n",
       "         [ 8.,  9., 10., 11.],\n",
       "         [12., 13., 14., 15.],\n",
       "         [16., 17., 18., 19.]]),\n",
       " tensor([0., 1., 2., 3.]),\n",
       " torch.Size([5, 4]),\n",
       " torch.Size([4]),\n",
       " tensor([ 14.,  38.,  62.,  86., 110.]))"
      ]
     },
     "execution_count": 88,
     "metadata": {},
     "output_type": "execute_result"
    }
   ],
   "source": [
    "A=torch.arange(20,dtype=torch.float32).reshape(5,4)\n",
    "A,x,A.shape,x.shape,torch.mv(A,x)    #matrix-vector,矩阵向量积"
   ]
  },
  {
   "cell_type": "code",
   "execution_count": null,
   "id": "cf703a4d-ffb2-44cd-a7bf-9e4127ccd34f",
   "metadata": {},
   "outputs": [],
   "source": [
    "#矩阵向量积拓展为矩阵-矩阵积：矩阵-矩阵乘法AB看作m次矩阵-向量积，结果拼接到一起"
   ]
  },
  {
   "cell_type": "code",
   "execution_count": 91,
   "id": "56254659-bded-4343-b730-a10642d91347",
   "metadata": {},
   "outputs": [
    {
     "data": {
      "text/plain": [
       "(tensor([[ 0.,  1.,  2.,  3.],\n",
       "         [ 4.,  5.,  6.,  7.],\n",
       "         [ 8.,  9., 10., 11.],\n",
       "         [12., 13., 14., 15.],\n",
       "         [16., 17., 18., 19.]]),\n",
       " tensor([[1., 1., 1.],\n",
       "         [1., 1., 1.],\n",
       "         [1., 1., 1.],\n",
       "         [1., 1., 1.]]),\n",
       " tensor([[ 6.,  6.,  6.],\n",
       "         [22., 22., 22.],\n",
       "         [38., 38., 38.],\n",
       "         [54., 54., 54.],\n",
       "         [70., 70., 70.]]))"
      ]
     },
     "execution_count": 91,
     "metadata": {},
     "output_type": "execute_result"
    }
   ],
   "source": [
    "B=torch.ones(4,3)\n",
    "A,B,torch.mm(A,B)    #matrix-matrix ，矩阵-矩阵乘积"
   ]
  },
  {
   "cell_type": "code",
   "execution_count": null,
   "id": "ba0d9cdd-43bd-4455-b2a9-c6e61dc008e3",
   "metadata": {},
   "outputs": [],
   "source": [
    "#L2范数是向量元素平方和的平方根（类似勾股定理）"
   ]
  },
  {
   "cell_type": "code",
   "execution_count": 92,
   "id": "624e07bd-424d-472e-b79f-8af756d68f35",
   "metadata": {},
   "outputs": [
    {
     "data": {
      "text/plain": [
       "tensor(5.)"
      ]
     },
     "execution_count": 92,
     "metadata": {},
     "output_type": "execute_result"
    }
   ],
   "source": [
    "u=torch.tensor([3.0,-4.0])\n",
    "torch.norm(u)     #norm，常态，规范，范数"
   ]
  },
  {
   "cell_type": "code",
   "execution_count": null,
   "id": "028883b3-183e-4bfa-aee8-f829fee18201",
   "metadata": {},
   "outputs": [],
   "source": [
    "#L1范数是向量元素的绝对值之和"
   ]
  },
  {
   "cell_type": "code",
   "execution_count": 93,
   "id": "a876543b-cf26-41d3-ab8a-200b55f84152",
   "metadata": {},
   "outputs": [
    {
     "data": {
      "text/plain": [
       "tensor(7.)"
      ]
     },
     "execution_count": 93,
     "metadata": {},
     "output_type": "execute_result"
    }
   ],
   "source": [
    "torch.abs(u).sum()  #abs,absolute value，绝对的值"
   ]
  },
  {
   "cell_type": "code",
   "execution_count": null,
   "id": "833c1314-aaa7-4d7e-9587-4e887c9e7ea8",
   "metadata": {},
   "outputs": [],
   "source": [
    "#F范数是矩阵元素的平方和的平方根(等价于把矩阵拉成向量来求范数)"
   ]
  },
  {
   "cell_type": "code",
   "execution_count": 95,
   "id": "f3fcb3c0-cca2-4e27-86ae-4897a67f0185",
   "metadata": {},
   "outputs": [
    {
     "data": {
      "text/plain": [
       "tensor([[1., 1., 1., 1., 1., 1., 1., 1., 1.],\n",
       "        [1., 1., 1., 1., 1., 1., 1., 1., 1.],\n",
       "        [1., 1., 1., 1., 1., 1., 1., 1., 1.],\n",
       "        [1., 1., 1., 1., 1., 1., 1., 1., 1.]])"
      ]
     },
     "execution_count": 95,
     "metadata": {},
     "output_type": "execute_result"
    }
   ],
   "source": [
    "torch.ones((4,9))"
   ]
  },
  {
   "cell_type": "code",
   "execution_count": 94,
   "id": "de98e274-0372-4ff9-b5ee-e2337d87f4a7",
   "metadata": {},
   "outputs": [
    {
     "data": {
      "text/plain": [
       "tensor(6.)"
      ]
     },
     "execution_count": 94,
     "metadata": {},
     "output_type": "execute_result"
    }
   ],
   "source": [
    "torch.norm(torch.ones((4,9))) #根号36"
   ]
  },
  {
   "cell_type": "code",
   "execution_count": null,
   "id": "94621e20-1748-41ad-95c8-aa01005db560",
   "metadata": {},
   "outputs": [],
   "source": []
  }
 ],
 "metadata": {
  "kernelspec": {
   "display_name": "d2l-zh",
   "language": "python",
   "name": "d2l-zh"
  },
  "language_info": {
   "codemirror_mode": {
    "name": "ipython",
    "version": 3
   },
   "file_extension": ".py",
   "mimetype": "text/x-python",
   "name": "python",
   "nbconvert_exporter": "python",
   "pygments_lexer": "ipython3",
   "version": "3.8.20"
  }
 },
 "nbformat": 4,
 "nbformat_minor": 5
}
