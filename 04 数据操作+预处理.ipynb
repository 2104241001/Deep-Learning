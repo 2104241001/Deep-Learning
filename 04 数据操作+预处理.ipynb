{
 "cells": [
  {
   "cell_type": "code",
   "execution_count": 1,
   "id": "82e19ae2-35ee-43f2-901c-6f960003167f",
   "metadata": {
    "pycharm": {
     "name": "#%%\n"
    }
   },
   "outputs": [],
   "source": [
    "#04数据操作＋数据预处理"
   ]
  },
  {
   "cell_type": "code",
   "execution_count": 28,
   "id": "8c224876-ea60-4cb1-8977-a351c171b556",
   "metadata": {
    "pycharm": {
     "name": "#%%\n"
    }
   },
   "outputs": [],
   "source": [
    "import torch"
   ]
  },
  {
   "cell_type": "code",
   "execution_count": 3,
   "id": "34773acb-32e1-4660-a228-a24188927d91",
   "metadata": {
    "pycharm": {
     "name": "#%%\n"
    }
   },
   "outputs": [],
   "source": [
    "#张量表示一个数值组成的数组，这个数组可能有多个维度"
   ]
  },
  {
   "cell_type": "code",
   "execution_count": 4,
   "id": "43eb617f-1d4a-4050-871f-4109ce77f728",
   "metadata": {
    "pycharm": {
     "name": "#%%\n"
    }
   },
   "outputs": [],
   "source": [
    "x=torch.arange(12)       #PyTorch 中，torch.arange 是一个用于生成连续整数张量的函数"
   ]
  },
  {
   "cell_type": "code",
   "execution_count": 5,
   "id": "d52756ba-b162-4bd0-b048-e4ac68233ca1",
   "metadata": {
    "pycharm": {
     "name": "#%%\n"
    }
   },
   "outputs": [
    {
     "data": {
      "text/plain": [
       "tensor([ 0,  1,  2,  3,  4,  5,  6,  7,  8,  9, 10, 11])"
      ]
     },
     "execution_count": 5,
     "metadata": {},
     "output_type": "execute_result"
    }
   ],
   "source": [
    "x"
   ]
  },
  {
   "cell_type": "code",
   "execution_count": 6,
   "id": "e3595802-3c98-4bd5-be50-891011abad77",
   "metadata": {
    "pycharm": {
     "name": "#%%\n"
    }
   },
   "outputs": [],
   "source": [
    "#我们可以通过张量的shape属性来访问张量的形状和张量中元素的总数"
   ]
  },
  {
   "cell_type": "code",
   "execution_count": 7,
   "id": "40ced819-2217-49e6-a6f9-6a2dd54e068a",
   "metadata": {
    "pycharm": {
     "name": "#%%\n"
    }
   },
   "outputs": [
    {
     "data": {
      "text/plain": [
       "torch.Size([12])"
      ]
     },
     "execution_count": 7,
     "metadata": {},
     "output_type": "execute_result"
    }
   ],
   "source": [
    "x.shape   #x.shape 来获取张量 x 的形状（即维度和大小）,以下表示张量 x 的形状是一个长度为 12 的一维数组。"
   ]
  },
  {
   "cell_type": "code",
   "execution_count": 14,
   "id": "f1783c16-76f8-4eba-8809-71d96597cb6d",
   "metadata": {
    "pycharm": {
     "name": "#%%\n"
    }
   },
   "outputs": [
    {
     "data": {
      "text/plain": [
       "12"
      ]
     },
     "execution_count": 14,
     "metadata": {},
     "output_type": "execute_result"
    }
   ],
   "source": [
    "x.numel() #x.numel() 来返回张量 x 中所有元素的总数  "
   ]
  },
  {
   "cell_type": "code",
   "execution_count": 15,
   "id": "2f58e73d-3688-4180-bd6c-496ecd899f50",
   "metadata": {
    "pycharm": {
     "name": "#%%\n"
    }
   },
   "outputs": [],
   "source": [
    "#要改变一个张量的形状而不改变元素数量和元素值，可以调用reshape函数"
   ]
  },
  {
   "cell_type": "code",
   "execution_count": 23,
   "id": "6099045a-c677-46bc-97dc-536252c7388b",
   "metadata": {
    "pycharm": {
     "name": "#%%\n"
    }
   },
   "outputs": [],
   "source": [
    "X=x.reshape(3,4)"
   ]
  },
  {
   "cell_type": "code",
   "execution_count": 24,
   "id": "7851a8dd-4a8a-4d72-b1df-021fcbc450fb",
   "metadata": {
    "pycharm": {
     "name": "#%%\n"
    }
   },
   "outputs": [
    {
     "data": {
      "text/plain": [
       "tensor([[ 0,  1,  2,  3],\n",
       "        [ 4,  5,  6,  7],\n",
       "        [ 8,  9, 10, 11]])"
      ]
     },
     "execution_count": 24,
     "metadata": {},
     "output_type": "execute_result"
    }
   ],
   "source": [
    "X"
   ]
  },
  {
   "cell_type": "code",
   "execution_count": 25,
   "id": "18c67f3d-fa25-4c3c-9033-772c5f4ff23e",
   "metadata": {
    "pycharm": {
     "name": "#%%\n"
    }
   },
   "outputs": [],
   "source": [
    "#使用全0、全1、其他常量或者从特定分布中随机采样的数字"
   ]
  },
  {
   "cell_type": "code",
   "execution_count": 27,
   "id": "9989d366-616d-4648-b8f3-84d885173fda",
   "metadata": {
    "pycharm": {
     "name": "#%%\n"
    }
   },
   "outputs": [
    {
     "data": {
      "text/plain": [
       "tensor([[[0., 0., 0., 0.],\n",
       "         [0., 0., 0., 0.],\n",
       "         [0., 0., 0., 0.]],\n",
       "\n",
       "        [[0., 0., 0., 0.],\n",
       "         [0., 0., 0., 0.],\n",
       "         [0., 0., 0., 0.]]])"
      ]
     },
     "execution_count": 27,
     "metadata": {},
     "output_type": "execute_result"
    }
   ],
   "source": [
    "torch.zeros((2,3,4)) #torch.zeros((2, 3, 4)) 会创建一个形状为 (2, 3, 4) 的三维张量，其中所有元素都为零。"
   ]
  },
  {
   "cell_type": "code",
   "execution_count": 29,
   "id": "82a299e1-8f4c-4534-a938-41b3b6fcabce",
   "metadata": {
    "pycharm": {
     "name": "#%%\n"
    }
   },
   "outputs": [
    {
     "data": {
      "text/plain": [
       "tensor([[[1., 1., 1., 1.],\n",
       "         [1., 1., 1., 1.],\n",
       "         [1., 1., 1., 1.]],\n",
       "\n",
       "        [[1., 1., 1., 1.],\n",
       "         [1., 1., 1., 1.],\n",
       "         [1., 1., 1., 1.]]])"
      ]
     },
     "execution_count": 29,
     "metadata": {},
     "output_type": "execute_result"
    }
   ],
   "source": [
    "torch.ones((2,3,4))  #形状 (2, 3, 4)：\n",
    "                     #第一个维度（大小为 2）表示张量中有两个“块”。\n",
    "                     #每个块是一个形状为 (3, 4) 的二维张量，表示 3 行 4 列。\n",
    "                     #因此，整个张量是一个三维张量，包含 24 个零元素（2 × 3 × 4 = 24）。"
   ]
  },
  {
   "cell_type": "code",
   "execution_count": null,
   "id": "e8d03d40-8229-4b74-b2f8-ee94c051f84b",
   "metadata": {
    "pycharm": {
     "name": "#%%\n"
    }
   },
   "outputs": [],
   "source": [
    "# 因此，整个张量是一个三维张量.\n",
    "# 问题1：三行四列是否是二维\n",
    "# 问题2：形状（3，4，4）是否是四维\n",
    "# 问题3：形状（2，3，4）是否是由于有两个三行四列这两个二维才是三维，这种情况下形状（1，3，4）则为二维\n",
    "# 问题4：形状（2，3，4）是否是由于三行四列中有三行，不论第一个数是2（张量中有两个块）还是多少，这种情况下形状（1，4，4）和形状（4，4，4）为四维\n",
    "# 因此，整个张量是一个三维张量.问题1：三行四列是否是二维\n",
    "# 问题2：形状（3，4，4）是否是四维\n",
    "# 问题3：形状（2，3，4）是否是由于有两个三行四列这两个二维才是三维，这种情况下形状（1，3，4）则为二维\n",
    "# 问题4：形状（2，3，4）是否是由于三行四列中有三行，不论第一个数是2（张量中有两个块）还是多少，这种情况下形状（1，4，4）和形状（4，4，4）为四维\n",
    "# Avatar\n",
    "# 你的问题涉及到张量的维度和形状的理解，这是一个非常重要的概念。我们来逐一解答你的问题：\n",
    "# 问题1：三行四列是否是二维？\n",
    "# 答案：是的。\n",
    "# 一个“三行四列”的张量是一个二维张量（矩阵）。它的形状是 (3, 4)，表示它有 3 个行（第一维）和 4 个列（第二维）。\n",
    "# 问题2：形状 (3, 4, 4) 是否是四维？\n",
    "# 答案：不是，它是三维。\n",
    "# 形状 (3, 4, 4) 表示张量有三个维度：\n",
    "# 第一个维度大小为 3，表示有 3 个“块”。\n",
    "# 每个块是一个形状为 (4, 4) 的二维矩阵（4 行 4 列）。\n",
    "# 因此，整个张量是一个三维张量，而不是四维。\n",
    "# 问题3：形状 (2, 3, 4) 是否是因为有两个三行四列的二维张量，所以是三维？\n",
    "# 答案：是的。\n",
    "# 形状 (2, 3, 4) 的张量可以理解为：\n",
    "# 第一个维度大小为 2，表示有 2 个“块”。\n",
    "# 每个块是一个形状为 (3, 4) 的二维矩阵（3 行 4 列）。\n",
    "# 因此，整个张量是一个三维张量。\n",
    "# 关于形状 (1, 3, 4) 是否为二维：\n",
    "# 答案：不是。\n",
    "# 形状 (1, 3, 4) 仍然是一个三维张量。虽然第一个维度的大小为 1，但它仍然表示一个“块”，而这个块是一个形状为 (3, 4) 的二维矩阵。\n",
    "# 如果你希望将 (1, 3, 4) 转换为二维张量，可以使用 torch.squeeze() 方法，去掉大小为 1 的维度，得到形状为 (3, 4) 的二维张量。\n",
    "# 问题4：形状 (2, 3, 4) 是否是因为三行四列中有三行，不论第一个数是 2 还是多少，这种情况下形状 (1, 4, 4) 和形状 (4, 4, 4) 都是四维？\n",
    "# 答案：不是。\n",
    "# 形状 (2, 3, 4) 是一个三维张量，因为：\n",
    "# 第一个维度表示“块”的数量。\n",
    "# 每个块是一个形状为 (3, 4) 的二维矩阵。\n",
    "# 形状 (1, 4, 4)：\n",
    "# 这仍然是一个三维张量。第一个维度大小为 1，表示有一个“块”，而这个块是一个形状为 (4, 4) 的二维矩阵。\n",
    "# 形状 (4, 4, 4)：\n",
    "# 这也是一个三维张量。第一个维度大小为 4，表示有 4 个“块”，每个块是一个形状为 (4, 4) 的二维矩阵。\n",
    "# 四维张量的例子：\n",
    "# 一个四维张量的形状可能是 (2, 3, 4, 5)，表示：\n",
    "# 第一个维度大小为 2，表示有 2 个“组”。\n",
    "# 每个组包含 3 个“块”。\n",
    "# 每个块是一个形状为 (4, 5) 的二维矩阵。\n",
    "# 总结：\n",
    "# 张量的维度由其形状的长度决定：\n",
    "# 形状 (3, 4) 是二维张量。\n",
    "# 形状 (2, 3, 4) 是三维张量。\n",
    "# 形状 (1, 3, 4) 也是三维张量。\n",
    "# 形状 (4, 4, 4) 是三维张量。\n",
    "# 形状 (2, 3, 4, 5) 是四维张量。\n",
    "# 希望这些解释能帮助你更好地理解张量的维度和形状！"
   ]
  },
  {
   "cell_type": "code",
   "execution_count": 31,
   "id": "b6edf8b7-d3d3-46c4-ada0-3dc311f10d7a",
   "metadata": {
    "pycharm": {
     "name": "#%%\n"
    }
   },
   "outputs": [],
   "source": [
    "#通过提供包含数值的Python列表（或嵌套列表）来为所需张量中的每个元素赋予确定值"
   ]
  },
  {
   "cell_type": "code",
   "execution_count": 33,
   "id": "5aec46d2-afc4-43ef-b157-a5692256ece7",
   "metadata": {
    "pycharm": {
     "name": "#%%\n"
    }
   },
   "outputs": [
    {
     "data": {
      "text/plain": [
       "tensor([[2, 1, 4, 3],\n",
       "        [1, 2, 3, 4],\n",
       "        [4, 3, 2, 1]])"
      ]
     },
     "execution_count": 33,
     "metadata": {},
     "output_type": "execute_result"
    }
   ],
   "source": [
    "torch.tensor([[2,1,4,3],[1,2,3,4],[4,3,2,1]])  #tensor：张量"
   ]
  },
  {
   "cell_type": "code",
   "execution_count": 47,
   "id": "161a89b5-9af5-465a-8a7b-f7d801be0602",
   "metadata": {
    "pycharm": {
     "name": "#%%\n"
    }
   },
   "outputs": [
    {
     "data": {
      "text/plain": [
       "torch.Size([3, 4])"
      ]
     },
     "execution_count": 47,
     "metadata": {},
     "output_type": "execute_result"
    }
   ],
   "source": [
    "torch.tensor([[2,1,4,3],[1,2,3,4],[4,3,2,1]]).shape #行是一个维度，列是一个维度，形状是三行四列"
   ]
  },
  {
   "cell_type": "code",
   "execution_count": 49,
   "id": "ee332f46-86bd-4015-ae33-e55f613413c4",
   "metadata": {
    "pycharm": {
     "name": "#%%\n"
    }
   },
   "outputs": [
    {
     "data": {
      "text/plain": [
       "torch.Size([1, 3, 4])"
      ]
     },
     "execution_count": 49,
     "metadata": {},
     "output_type": "execute_result"
    }
   ],
   "source": [
    "torch.tensor([[[2,1,4,3],[1,2,3,4],[4,3,2,1]]]).shape #加一对中括号，升一个维度，整体为一个块"
   ]
  },
  {
   "cell_type": "code",
   "execution_count": 51,
   "id": "6bb11d64-60fa-42d8-a3f6-dd76e93cb952",
   "metadata": {
    "pycharm": {
     "name": "#%%\n"
    }
   },
   "outputs": [
    {
     "data": {
      "text/plain": [
       "12"
      ]
     },
     "execution_count": 51,
     "metadata": {},
     "output_type": "execute_result"
    }
   ],
   "source": [
    "torch.tensor([[2,1,4,3],[1,2,3,4],[4,3,2,1]]).numel()  #三行四列共12个元素"
   ]
  },
  {
   "cell_type": "code",
   "execution_count": 53,
   "id": "9de062df-83a4-497d-811e-44ede59f91ce",
   "metadata": {
    "pycharm": {
     "name": "#%%\n"
    }
   },
   "outputs": [],
   "source": [
    "#常见的标准算数运算符（+、-、*、/和**）都可以被升级为按元素运算"
   ]
  },
  {
   "cell_type": "code",
   "execution_count": 61,
   "id": "ef912410-9783-4c9b-b5d6-0d284440bc50",
   "metadata": {
    "pycharm": {
     "name": "#%%\n"
    }
   },
   "outputs": [
    {
     "data": {
      "text/plain": [
       "(tensor([ 3.,  4.,  6., 10.]),\n",
       " tensor([-1.,  0.,  2.,  6.]),\n",
       " tensor([ 2.,  4.,  8., 16.]),\n",
       " tensor([0.5000, 1.0000, 2.0000, 4.0000]),\n",
       " tensor([ 1.,  4., 16., 64.]))"
      ]
     },
     "execution_count": 61,
     "metadata": {},
     "output_type": "execute_result"
    }
   ],
   "source": [
    "x=torch.tensor([1.0,2,4,8])\n",
    "y=torch.tensor([2,2,2,2])\n",
    "x+y,x-y,x*y,x/y,x**y #**运算符是求幂运算"
   ]
  },
  {
   "cell_type": "code",
   "execution_count": 63,
   "id": "3d1474e3-3c70-4ab5-8ae2-169d3fa01afe",
   "metadata": {
    "pycharm": {
     "name": "#%%\n"
    }
   },
   "outputs": [],
   "source": [
    "#更多的运算"
   ]
  },
  {
   "cell_type": "code",
   "execution_count": 65,
   "id": "28f69fc8-4788-4877-99de-9fe2647789a0",
   "metadata": {
    "pycharm": {
     "name": "#%%\n"
    }
   },
   "outputs": [
    {
     "data": {
      "text/plain": [
       "tensor([2.7183e+00, 7.3891e+00, 5.4598e+01, 2.9810e+03])"
      ]
     },
     "execution_count": 65,
     "metadata": {},
     "output_type": "execute_result"
    }
   ],
   "source": [
    "torch.exp(x)   #指数运算,e的x次方"
   ]
  },
  {
   "cell_type": "code",
   "execution_count": 67,
   "id": "17012cb5-0a20-460f-a7dd-334d392ebae8",
   "metadata": {
    "pycharm": {
     "name": "#%%\n"
    }
   },
   "outputs": [],
   "source": [
    "#我们也可以把多个张量连结在一起"
   ]
  },
  {
   "cell_type": "code",
   "execution_count": 27,
   "id": "2b858d3c-092d-4149-9164-20887fd8438e",
   "metadata": {
    "pycharm": {
     "name": "#%%\n"
    }
   },
   "outputs": [
    {
     "data": {
      "text/plain": [
       "(tensor([[ 0.,  1.,  2.,  3.],\n",
       "         [ 4.,  5.,  6.,  7.],\n",
       "         [ 8.,  9., 10., 11.],\n",
       "         [ 2.,  1.,  4.,  3.],\n",
       "         [ 1.,  2.,  3.,  4.],\n",
       "         [ 4.,  3.,  2.,  1.]]),\n",
       " tensor([[ 0.,  1.,  2.,  3.,  2.,  1.,  4.,  3.],\n",
       "         [ 4.,  5.,  6.,  7.,  1.,  2.,  3.,  4.],\n",
       "         [ 8.,  9., 10., 11.,  4.,  3.,  2.,  1.]]))"
      ]
     },
     "execution_count": 27,
     "metadata": {},
     "output_type": "execute_result"
    }
   ],
   "source": [
    "X=torch.arange(12,dtype=torch.float32).reshape((3,4))\n",
    "Y=torch.tensor([[2.0,1,4,3],[1,2,3,4],[4,3,2,1]])\n",
    "torch.cat((X,Y),dim=0),torch.cat((X,Y),dim=1)     #dim=0是第0维合并，按行合并，增加行"
   ]
  },
  {
   "cell_type": "code",
   "execution_count": 12,
   "id": "12781434-f349-416c-92b4-3f92ca1e1e17",
   "metadata": {
    "pycharm": {
     "name": "#%%\n"
    }
   },
   "outputs": [],
   "source": [
    "#通过逻辑运算符构建二元张量"
   ]
  },
  {
   "cell_type": "code",
   "execution_count": 29,
   "id": "c3a97223-4f0d-42bb-9555-199b7b7dc975",
   "metadata": {
    "pycharm": {
     "name": "#%%\n"
    }
   },
   "outputs": [
    {
     "data": {
      "text/plain": [
       "tensor([[False,  True, False,  True],\n",
       "        [False, False, False, False],\n",
       "        [False, False, False, False]])"
      ]
     },
     "execution_count": 29,
     "metadata": {},
     "output_type": "execute_result"
    }
   ],
   "source": [
    "X==Y     #判断Y是不是等于X，按每个元素值判"
   ]
  },
  {
   "cell_type": "code",
   "execution_count": 13,
   "id": "bb0eab4d-109c-4ff6-8f05-3ca5bfb567dd",
   "metadata": {
    "pycharm": {
     "name": "#%%\n"
    }
   },
   "outputs": [],
   "source": [
    "#对张量中的所有元素进行求和会产生一个只有一个元素的张量"
   ]
  },
  {
   "cell_type": "code",
   "execution_count": 30,
   "id": "91acac08-7b3c-4e40-846d-fb8bc992e487",
   "metadata": {
    "pycharm": {
     "name": "#%%\n"
    }
   },
   "outputs": [
    {
     "data": {
      "text/plain": [
       "(tensor(66.), tensor(30.))"
      ]
     },
     "execution_count": 30,
     "metadata": {},
     "output_type": "execute_result"
    }
   ],
   "source": [
    "X.sum(),Y.sum()"
   ]
  },
  {
   "cell_type": "code",
   "execution_count": 17,
   "id": "af3ad271-28e8-4dbe-9d4e-e9445041edbb",
   "metadata": {
    "pycharm": {
     "name": "#%%\n"
    }
   },
   "outputs": [],
   "source": [
    "#即使形状不同(但维度一样)，我们仍然可以通过调用 广播机制（broadcasting mechanism）来执行按元素操作"
   ]
  },
  {
   "cell_type": "code",
   "execution_count": 31,
   "id": "9e8bd64b-5d1d-405d-bed1-ee8a08b66703",
   "metadata": {
    "pycharm": {
     "name": "#%%\n"
    }
   },
   "outputs": [
    {
     "data": {
      "text/plain": [
       "(tensor([[0],\n",
       "         [1],\n",
       "         [2]]),\n",
       " tensor([[0, 1]]))"
      ]
     },
     "execution_count": 31,
     "metadata": {},
     "output_type": "execute_result"
    }
   ],
   "source": [
    "a=torch.arange(3).reshape((3,1))\n",
    "b=torch.arange(2).reshape((1,2))\n",
    "a,b"
   ]
  },
  {
   "cell_type": "code",
   "execution_count": 32,
   "id": "c5e51cd3-be33-45e9-a3a7-c63fcfb0025c",
   "metadata": {
    "pycharm": {
     "name": "#%%\n"
    }
   },
   "outputs": [
    {
     "data": {
      "text/plain": [
       "tensor([[0, 1],\n",
       "        [1, 2],\n",
       "        [2, 3]])"
      ]
     },
     "execution_count": 32,
     "metadata": {},
     "output_type": "execute_result"
    }
   ],
   "source": [
    "a+b     #广播机制化为相同形式（3*2+3*2）；类似线性代数中 3*1  1*2  结果  3*2"
   ]
  },
  {
   "cell_type": "code",
   "execution_count": 25,
   "id": "ac0aafb9-bfd1-44ff-bf98-b2bbac4f7fab",
   "metadata": {
    "pycharm": {
     "name": "#%%\n"
    }
   },
   "outputs": [],
   "source": [
    "#读取：可以用[-1]选择最后一个元素，可以用[1:3]选择第二个和第三个元素"
   ]
  },
  {
   "cell_type": "code",
   "execution_count": 33,
   "id": "ddac56d2-2aea-4f78-bf28-ff651a24def9",
   "metadata": {
    "pycharm": {
     "name": "#%%\n"
    }
   },
   "outputs": [
    {
     "data": {
      "text/plain": [
       "(tensor([ 8.,  9., 10., 11.]),\n",
       " tensor([[ 4.,  5.,  6.,  7.],\n",
       "         [ 8.,  9., 10., 11.]]),\n",
       " tensor([9.]))"
      ]
     },
     "execution_count": 33,
     "metadata": {},
     "output_type": "execute_result"
    }
   ],
   "source": [
    "X[-1],X[1:3],X[-1,1:2]    #前面已经提到了"
   ]
  },
  {
   "cell_type": "code",
   "execution_count": 31,
   "id": "a40f0ec9-a70e-4625-910d-4bcb2adfbbcd",
   "metadata": {
    "pycharm": {
     "name": "#%%\n"
    }
   },
   "outputs": [],
   "source": [
    "#写入矩阵：单个赋值，通过指定索引来将元素写入矩阵"
   ]
  },
  {
   "cell_type": "code",
   "execution_count": 35,
   "id": "4edf9a43-b135-4361-87fd-29c1cf731400",
   "metadata": {
    "pycharm": {
     "name": "#%%\n"
    }
   },
   "outputs": [
    {
     "data": {
      "text/plain": [
       "tensor([[ 0.,  1.,  2.,  3.],\n",
       "        [ 4.,  5.,  9.,  7.],\n",
       "        [ 8.,  9., 10., 11.]])"
      ]
     },
     "execution_count": 35,
     "metadata": {},
     "output_type": "execute_result"
    }
   ],
   "source": [
    "X[1,2]=9\n",
    "X"
   ]
  },
  {
   "cell_type": "code",
   "execution_count": 37,
   "id": "0089a5c9-53ed-4b9b-8d97-f033ec5600a9",
   "metadata": {
    "pycharm": {
     "name": "#%%\n"
    }
   },
   "outputs": [],
   "source": [
    "#写入矩阵：区域赋值，为多个元素赋值相同的值，我们只需要索引所有元素，然后为它们赋值"
   ]
  },
  {
   "cell_type": "code",
   "execution_count": 39,
   "id": "e2b5e7ae-926f-4dcc-a0bd-73956190bc95",
   "metadata": {
    "pycharm": {
     "name": "#%%\n"
    }
   },
   "outputs": [
    {
     "data": {
      "text/plain": [
       "tensor([[12., 12., 12., 12.],\n",
       "        [12., 12., 12., 12.],\n",
       "        [ 8.,  9., 10., 11.]])"
      ]
     },
     "execution_count": 39,
     "metadata": {},
     "output_type": "execute_result"
    }
   ],
   "source": [
    "X[0:2,:]=12\n",
    "X"
   ]
  },
  {
   "cell_type": "code",
   "execution_count": 42,
   "id": "18f66d41-616f-4130-b125-94efff08a853",
   "metadata": {
    "pycharm": {
     "name": "#%%\n"
    }
   },
   "outputs": [],
   "source": [
    "#运行一些操作可能会导致为新结果分配内存（大内存的地方不要过多赋值）"
   ]
  },
  {
   "cell_type": "code",
   "execution_count": 37,
   "id": "21836aef",
   "metadata": {},
   "outputs": [
    {
     "data": {
      "text/plain": [
       "(2041538180976, 2041538136640)"
      ]
     },
     "execution_count": 37,
     "metadata": {},
     "output_type": "execute_result"
    }
   ],
   "source": [
    "id(X),id(Y)"
   ]
  },
  {
   "cell_type": "code",
   "execution_count": 44,
   "id": "e9982bf7-15be-4087-a417-0d596208e51e",
   "metadata": {
    "pycharm": {
     "name": "#%%\n"
    }
   },
   "outputs": [
    {
     "data": {
      "text/plain": [
       "False"
      ]
     },
     "execution_count": 44,
     "metadata": {},
     "output_type": "execute_result"
    }
   ],
   "source": [
    "before=id(Y)  #id() 函数用于获取一个对象的内存地址（即对象的唯一标识）\n",
    "Y=Y+X   #显式赋值\n",
    "id(Y)==before"
   ]
  },
  {
   "cell_type": "code",
   "execution_count": 48,
   "id": "7ce1cd98",
   "metadata": {},
   "outputs": [
    {
     "data": {
      "text/plain": [
       "(2041538136640, 2041538136640)"
      ]
     },
     "execution_count": 48,
     "metadata": {},
     "output_type": "execute_result"
    }
   ],
   "source": [
    "id(Y),before"
   ]
  },
  {
   "cell_type": "code",
   "execution_count": 47,
   "id": "db00226d-3e0d-434c-85f5-0621431905cf",
   "metadata": {
    "pycharm": {
     "name": "#%%\n"
    }
   },
   "outputs": [
    {
     "data": {
      "text/plain": [
       "True"
      ]
     },
     "execution_count": 47,
     "metadata": {},
     "output_type": "execute_result"
    }
   ],
   "source": [
    "before=id(Y)  #id() 函数用于获取一个对象的内存地址（即对象的唯一标识）\n",
    "Y+=X   #增强赋值,X的值加进Y里面\n",
    "id(Y)==before"
   ]
  },
  {
   "cell_type": "code",
   "execution_count": 50,
   "id": "d3717393-a91e-4d8d-952f-87540279487b",
   "metadata": {
    "pycharm": {
     "name": "#%%\n"
    }
   },
   "outputs": [],
   "source": [
    "#执行原地操作"
   ]
  },
  {
   "cell_type": "code",
   "execution_count": 45,
   "id": "7eb8a767-3c5a-4c89-9517-1f24f2514b92",
   "metadata": {
    "pycharm": {
     "name": "#%%\n"
    }
   },
   "outputs": [
    {
     "name": "stdout",
     "output_type": "stream",
     "text": [
      "id(z): 2041538181536\n",
      "id(z): 2041538181536\n"
     ]
    }
   ],
   "source": [
    "z=torch.zeros_like(Y)\n",
    "print('id(z):',id(z))\n",
    "z[:]=X+Y\n",
    "print('id(z):',id(z))"
   ]
  },
  {
   "cell_type": "code",
   "execution_count": 76,
   "id": "4318cd0a-8a86-4249-bdcc-ccb193db6c25",
   "metadata": {
    "pycharm": {
     "name": "#%%\n"
    }
   },
   "outputs": [],
   "source": [
    "#如果在后续计算中没有重复使用X，我们也可以使用X[:]=X+Y或X+=Y来减少操作的内存开销"
   ]
  },
  {
   "cell_type": "code",
   "execution_count": 78,
   "id": "6382c2e3-1ff8-48bf-bf52-e6473a9fe719",
   "metadata": {
    "pycharm": {
     "name": "#%%\n"
    }
   },
   "outputs": [
    {
     "data": {
      "text/plain": [
       "True"
      ]
     },
     "execution_count": 78,
     "metadata": {},
     "output_type": "execute_result"
    }
   ],
   "source": [
    "before=id(X)    #前面已提到\n",
    "X+=Y\n",
    "id(X)==before"
   ]
  },
  {
   "cell_type": "code",
   "execution_count": 80,
   "id": "8790e9d3-1eb7-4479-ab5b-96b8b248ca72",
   "metadata": {
    "pycharm": {
     "name": "#%%\n"
    }
   },
   "outputs": [],
   "source": [
    "#torch张量转换为numpy类型，再拿回来"
   ]
  },
  {
   "cell_type": "code",
   "execution_count": 86,
   "id": "e97eb320-a406-4e05-9d45-fd3ea6c22855",
   "metadata": {
    "pycharm": {
     "name": "#%%\n"
    }
   },
   "outputs": [
    {
     "data": {
      "text/plain": [
       "tensor([[50., 49., 52., 51.],\n",
       "        [49., 50., 51., 52.],\n",
       "        [36., 39., 42., 45.]])"
      ]
     },
     "execution_count": 86,
     "metadata": {},
     "output_type": "execute_result"
    }
   ],
   "source": [
    "X"
   ]
  },
  {
   "cell_type": "code",
   "execution_count": 96,
   "id": "8c455be5-e20e-431b-bcde-0677612568b6",
   "metadata": {
    "pycharm": {
     "name": "#%%\n"
    }
   },
   "outputs": [
    {
     "data": {
      "text/plain": [
       "array([[50., 49., 52., 51.],\n",
       "       [49., 50., 51., 52.],\n",
       "       [36., 39., 42., 45.]], dtype=float32)"
      ]
     },
     "execution_count": 96,
     "metadata": {},
     "output_type": "execute_result"
    }
   ],
   "source": [
    "A=X.numpy()\n",
    "A"
   ]
  },
  {
   "cell_type": "code",
   "execution_count": 98,
   "id": "37be7749-eca4-4c3c-8670-b4e741fab629",
   "metadata": {
    "pycharm": {
     "name": "#%%\n"
    }
   },
   "outputs": [
    {
     "data": {
      "text/plain": [
       "tensor([[50., 49., 52., 51.],\n",
       "        [49., 50., 51., 52.],\n",
       "        [36., 39., 42., 45.]])"
      ]
     },
     "execution_count": 98,
     "metadata": {},
     "output_type": "execute_result"
    }
   ],
   "source": [
    "B=torch.tensor(A)\n",
    "B"
   ]
  },
  {
   "cell_type": "code",
   "execution_count": 100,
   "id": "5dd53ffb-a061-40d8-be2b-27a2b8088bb4",
   "metadata": {
    "pycharm": {
     "name": "#%%\n"
    }
   },
   "outputs": [
    {
     "data": {
      "text/plain": [
       "(numpy.ndarray, torch.Tensor)"
      ]
     },
     "execution_count": 100,
     "metadata": {},
     "output_type": "execute_result"
    }
   ],
   "source": [
    "type(A),type(B)"
   ]
  },
  {
   "cell_type": "code",
   "execution_count": 102,
   "id": "d11efe86-8800-454f-80c2-1ef3232fbc77",
   "metadata": {
    "pycharm": {
     "name": "#%%\n"
    }
   },
   "outputs": [],
   "source": [
    "#将大小为1的张量转化为Python标量（将张量tensor里元素提出来）"
   ]
  },
  {
   "cell_type": "code",
   "execution_count": 14,
   "id": "1ca3783b-bfbc-4574-b114-b509b4bd7eb4",
   "metadata": {
    "pycharm": {
     "name": "#%%\n"
    }
   },
   "outputs": [
    {
     "data": {
      "text/plain": [
       "(tensor([3.5000]), 3.5, 3.5, 3)"
      ]
     },
     "execution_count": 14,
     "metadata": {},
     "output_type": "execute_result"
    }
   ],
   "source": [
    "a=torch.tensor([3.5])\n",
    "a,a.item(),float(a),int(a)     #item() 方法将一个只有一个元素的张量转换为 Python 的标量（原生数值类型）\n",
    "#float() 和 int() 不能直接作用于整个张量。它们只能用于单个元素的张量。\n",
    "#如果只想提取张量中的某个特定元素并进行类型转换，可以通过索引操作来实现\n",
    "#如果需要将多元素张量转换为 Python 列表，可以使用 .tolist() 方法"
   ]
  },
  {
   "cell_type": "code",
   "execution_count": null,
   "id": "ec318981-45b3-464a-b6c9-f753b1d7d3bb",
   "metadata": {
    "pycharm": {
     "name": "#%%\n"
    }
   },
   "outputs": [],
   "source": []
  },
  {
   "cell_type": "code",
   "execution_count": null,
   "id": "3b2b93f6-68fc-4f7d-8efc-5e28af3c60a2",
   "metadata": {
    "pycharm": {
     "name": "#%%\n"
    }
   },
   "outputs": [],
   "source": []
  },
  {
   "cell_type": "code",
   "execution_count": null,
   "id": "305dc7a8-8d11-4efa-afc0-3986bb7b33c0",
   "metadata": {
    "pycharm": {
     "name": "#%%\n"
    }
   },
   "outputs": [],
   "source": []
  },
  {
   "cell_type": "code",
   "execution_count": null,
   "id": "b5bb4a9c-fe7d-426a-9d7c-7dda68143a81",
   "metadata": {
    "pycharm": {
     "name": "#%%\n"
    }
   },
   "outputs": [],
   "source": [
    "##数据预处理（创建读取csv文件，做特征预处理，变成pytorch用的张量形式）"
   ]
  },
  {
   "cell_type": "code",
   "execution_count": null,
   "id": "ada180c0-04d4-48c9-9fa4-3626fca432d5",
   "metadata": {
    "pycharm": {
     "name": "#%%\n"
    }
   },
   "outputs": [],
   "source": [
    "#创建一个人工数据集，并存储在csv（逗号分割值）文件"
   ]
  },
  {
   "cell_type": "code",
   "execution_count": 5,
   "id": "7a573940-2822-4403-8aa1-1b6425ef706c",
   "metadata": {
    "pycharm": {
     "name": "#%%\n"
    }
   },
   "outputs": [],
   "source": [
    "import os   #（os创建文件）\n",
    "os.makedirs(os.path.join('..','data'),exist_ok=True) \n",
    "#在当前工作目录的上一级目录中创建一个名为 data 的文件夹。如果该文件夹已经存在，不会报错\n",
    "data_file=os.path.join('..','data','house_tiny.csv')  #文件夹下创建csv文件的路径，不是文件本身，此时没有实际创建\n",
    "#（csv:每一行代表一条记录,每条记录由多个字段组成，字段之间用逗号（,）分隔。可选地，字段可以用双引号（\"）括起来，以支持字段中包含逗号或换行符的情况）\n",
    "with open(data_file,'w') as f:\n",
    "    f.write('NumRooms,Alley,Price\\n')  #列名\n",
    "    f.write('NA,Pave,127000\\n')  #，每行表示一个数据样本\n",
    "    f.write('2,NA,106000\\n')\n",
    "    f.write('4,NA,178100\\n')\n",
    "    f.write('NA,NA,141000\\n')"
   ]
  },
  {
   "cell_type": "code",
   "execution_count": 6,
   "id": "a7baf24e-96b7-48ac-a263-026ce840870e",
   "metadata": {
    "pycharm": {
     "name": "#%%\n"
    }
   },
   "outputs": [],
   "source": [
    "# os.path.join('..', 'data')\n",
    "# os.path.join 是一个用于路径拼接的函数，它会根据操作系统（如 Windows 使用 \\，Linux/Unix 使用 /）自动选择正确的路径分隔符。\n",
    "# '..' 表示当前目录的上一级目录。一个点是本级目录\n",
    "# 'data' 是要创建的目录名称。\n",
    "# 因此，os.path.join('..', 'data') 会生成一个路径，指向当前目录的上一级目录中的 data 文件夹。\n",
    "# 例如：\n",
    "# 如果当前工作目录是 /home/user/project，那么生成的路径将是 /home/user/data。\n",
    "# 如果当前工作目录是 C:\\project，那么生成的路径将是 C:\\data。\n",
    "# os.makedirs\n",
    "# os.makedirs 是一个用于创建多级目录的函数。它会创建目标路径中所有不存在的目录。\n",
    "# 参数 exist_ok=True 表示如果目标目录已经存在，不会抛出错误。如果没有设置 exist_ok=True，当目标目录已经存在时，os.makedirs 会抛出 FileExistsError。\n",
    "# 完整代码的作用:\n",
    "# 这行代码的作用是：\n",
    "# 在当前工作目录的上一级目录中创建一个名为 data 的文件夹。\n",
    "# 如果该文件夹已经存在，不会报错（因为设置了 exist_ok=True）。"
   ]
  },
  {
   "cell_type": "code",
   "execution_count": 7,
   "id": "a8ec5b05",
   "metadata": {},
   "outputs": [],
   "source": [
    "# 1. 为什么是 with open？\n",
    "# with open 是 Python 中的一个上下文管理器（context manager），用于自动管理文件的打开和关闭。使用 with open 有几个好处：\n",
    "# 自动关闭文件：无论文件操作过程中发生什么（包括异常），文件都会在 with 块结束时自动关闭，这有助于防止文件泄露。\n",
    "# 简化代码：不需要显式调用 close() 方法来关闭文件。\n",
    "# 提高安全性：减少因忘记关闭文件而造成的资源泄露风险。\n",
    "# 2. 为什么是 'w'？\n",
    "# 在 open 函数中，'w' 是一个模式参数，表示以写入模式打开文件。这个模式的作用如下：\n",
    "# 写入模式：如果文件已存在，它会被覆盖。如果文件不存在，会创建一个新文件。\n",
    "# 其他模式：除了 'w'，还有其他模式如 'r'（只读，文件必须存在），'a'（追加，如果文件存在则在末尾添加内容，不存在则创建新文件），'r+'（读写，文件必须存在）等。\n",
    "# 3. 为什么是 as f？\n",
    "# as f 是将 open 函数返回的文件对象赋值给变量 f。这样做的好处是：\n",
    "# 方便引用：在 with 块内部，您可以使用变量 f 来引用文件对象，进行读写操作。\n",
    "# 提高可读性：使用有意义的变量名（如 f 代表文件）可以使代码更易于理解和维护。"
   ]
  },
  {
   "cell_type": "code",
   "execution_count": 8,
   "id": "316973a0-5a14-4f79-945a-20710db0ad9e",
   "metadata": {
    "pycharm": {
     "name": "#%%\n"
    }
   },
   "outputs": [],
   "source": [
    "#从创建的csv文件中加载原始数据集(pandas读文件)"
   ]
  },
  {
   "cell_type": "code",
   "execution_count": 9,
   "id": "0bccec9d-de58-4aa9-af61-4586414150c3",
   "metadata": {
    "pycharm": {
     "name": "#%%\n"
    }
   },
   "outputs": [
    {
     "name": "stdout",
     "output_type": "stream",
     "text": [
      "   NumRooms Alley   Price\n",
      "0       NaN  Pave  127000\n",
      "1       2.0   NaN  106000\n",
      "2       4.0   NaN  178100\n",
      "3       NaN   NaN  141000\n"
     ]
    }
   ],
   "source": [
    "import pandas as pd\n",
    "\n",
    "data=pd.read_csv(data_file) #pandas提供的read_csv函数\n",
    "print(data)"
   ]
  },
  {
   "cell_type": "code",
   "execution_count": 10,
   "id": "b5d29840-a436-4549-95f0-11b203fddcf3",
   "metadata": {
    "pycharm": {
     "name": "#%%\n"
    }
   },
   "outputs": [
    {
     "data": {
      "text/html": [
       "<div>\n",
       "<style scoped>\n",
       "    .dataframe tbody tr th:only-of-type {\n",
       "        vertical-align: middle;\n",
       "    }\n",
       "\n",
       "    .dataframe tbody tr th {\n",
       "        vertical-align: top;\n",
       "    }\n",
       "\n",
       "    .dataframe thead th {\n",
       "        text-align: right;\n",
       "    }\n",
       "</style>\n",
       "<table border=\"1\" class=\"dataframe\">\n",
       "  <thead>\n",
       "    <tr style=\"text-align: right;\">\n",
       "      <th></th>\n",
       "      <th>NumRooms</th>\n",
       "      <th>Alley</th>\n",
       "      <th>Price</th>\n",
       "    </tr>\n",
       "  </thead>\n",
       "  <tbody>\n",
       "    <tr>\n",
       "      <th>0</th>\n",
       "      <td>NaN</td>\n",
       "      <td>Pave</td>\n",
       "      <td>127000</td>\n",
       "    </tr>\n",
       "    <tr>\n",
       "      <th>1</th>\n",
       "      <td>2.0</td>\n",
       "      <td>NaN</td>\n",
       "      <td>106000</td>\n",
       "    </tr>\n",
       "    <tr>\n",
       "      <th>2</th>\n",
       "      <td>4.0</td>\n",
       "      <td>NaN</td>\n",
       "      <td>178100</td>\n",
       "    </tr>\n",
       "    <tr>\n",
       "      <th>3</th>\n",
       "      <td>NaN</td>\n",
       "      <td>NaN</td>\n",
       "      <td>141000</td>\n",
       "    </tr>\n",
       "  </tbody>\n",
       "</table>\n",
       "</div>"
      ],
      "text/plain": [
       "   NumRooms Alley   Price\n",
       "0       NaN  Pave  127000\n",
       "1       2.0   NaN  106000\n",
       "2       4.0   NaN  178100\n",
       "3       NaN   NaN  141000"
      ]
     },
     "execution_count": 10,
     "metadata": {},
     "output_type": "execute_result"
    }
   ],
   "source": [
    "data #不用print，直接data，是HTML形式，更紧凑"
   ]
  },
  {
   "cell_type": "code",
   "execution_count": 11,
   "id": "4c6879a4-933e-4de8-9b40-9a2a83a908b1",
   "metadata": {
    "pycharm": {
     "name": "#%%\n"
    }
   },
   "outputs": [],
   "source": [
    "#为了处理缺失的培训，典型的方法包括插值和删除，这里考虑插值"
   ]
  },
  {
   "cell_type": "code",
   "execution_count": 12,
   "id": "6f25bfd2-60c1-42b5-a0f6-8f738c79ffc2",
   "metadata": {
    "pycharm": {
     "name": "#%%\n"
    }
   },
   "outputs": [
    {
     "name": "stdout",
     "output_type": "stream",
     "text": [
      "   NumRooms Alley\n",
      "0       3.0  Pave\n",
      "1       2.0   NaN\n",
      "2       4.0   NaN\n",
      "3       3.0   NaN\n"
     ]
    }
   ],
   "source": [
    "inputs,outputs=data.iloc[:,0:2],data.iloc[:,2] #每行分成输入和输出，iloc:index location\n",
    "inputs=inputs.fillna(inputs.mean(numeric_only=True))#fillna函数有调整，需加numeric_only=True，只考虑数值列\n",
    "#.mean()是平均值mean,如inputs=d.iloc[:,0]   inputs.mean()\n",
    "print(inputs)"
   ]
  },
  {
   "cell_type": "code",
   "execution_count": 84,
   "id": "9b0b3ee4-37ca-4a8b-8f71-077f10782adb",
   "metadata": {
    "pycharm": {
     "name": "#%%\n"
    }
   },
   "outputs": [],
   "source": [
    "# iloc 是 pandas 中用于基于整数位置的索引方法。它允许你通过行号和列号选择数据。\n",
    "# iloc 的语法是 data.iloc[行索引, 列索引]，其中行索引和列索引可以是整数、切片（:）、列表或布尔数组。\n",
    "#integer location"
   ]
  },
  {
   "cell_type": "code",
   "execution_count": 86,
   "id": "8c3a04a4-f6b4-40e0-93ac-882f872ef833",
   "metadata": {
    "pycharm": {
     "name": "#%%\n"
    }
   },
   "outputs": [],
   "source": [
    "#对于Inputs中的类别值或离散值，我们将“NAN”视为一个类别"
   ]
  },
  {
   "cell_type": "code",
   "execution_count": 16,
   "id": "23ff18dc-5189-498b-af12-d8a7a861dd5b",
   "metadata": {
    "pycharm": {
     "name": "#%%\n"
    }
   },
   "outputs": [
    {
     "name": "stdout",
     "output_type": "stream",
     "text": [
      "   NumRooms  Alley_Pave  Alley_nan\n",
      "0       3.0         1.0        0.0\n",
      "1       2.0         0.0        1.0\n",
      "2       4.0         0.0        1.0\n",
      "3       3.0         0.0        1.0\n"
     ]
    }
   ],
   "source": [
    "inputs=pd.get_dummies(inputs,dummy_na=True,dtype=float)\n",
    "print(inputs)\n",
    "#torch 2.0会默认使用True和False，替换原来的0和1，后续可能报错。可以增加一个属性到get_dummies中：dtype=float\n",
    "# pd.get_dummies：Pandas 提供的用于对数据进行独热编码（One-Hot Encoding）的函数。\n",
    "# dummy_na=True：将缺失值（NA）视为一个单独的类别进行编码。(取得笨蛋)\n",
    "# dtype=float：将生成的独热编码列的数据类型设置为浮点型。"
   ]
  },
  {
   "cell_type": "code",
   "execution_count": 15,
   "id": "71816179",
   "metadata": {},
   "outputs": [
    {
     "data": {
      "text/plain": [
       "0    127000\n",
       "1    106000\n",
       "2    178100\n",
       "3    141000\n",
       "Name: Price, dtype: int64"
      ]
     },
     "execution_count": 15,
     "metadata": {},
     "output_type": "execute_result"
    }
   ],
   "source": [
    "outputs"
   ]
  },
  {
   "cell_type": "code",
   "execution_count": 13,
   "id": "1887ee45-4421-4e80-bdd6-ac72d85d715b",
   "metadata": {
    "pycharm": {
     "name": "#%%\n"
    }
   },
   "outputs": [],
   "source": [
    "#现在inputs和outpouts中的所有条目都是数值类型，它们可以转换为张量格式"
   ]
  },
  {
   "cell_type": "code",
   "execution_count": 17,
   "id": "8ba57823",
   "metadata": {},
   "outputs": [
    {
     "data": {
      "text/plain": [
       "(tensor([[3., 1., 0.],\n",
       "         [2., 0., 1.],\n",
       "         [4., 0., 1.],\n",
       "         [3., 0., 1.]], dtype=torch.float64),\n",
       " tensor([127000, 106000, 178100, 141000]))"
      ]
     },
     "execution_count": 17,
     "metadata": {},
     "output_type": "execute_result"
    }
   ],
   "source": [
    "import torch\n",
    "\n",
    "X,y=torch.tensor(inputs.values),torch.tensor(outputs.values)\n",
    "X,y\n",
    "#inputs.values 和 outputs.values：\n",
    "# inputs 和 outputs 分别是 Pandas DataFrame 和 Series。\n",
    "# inputs.values 和 outputs.values 将 DataFrame 和 Series 转换为 NumPy 数组。\n",
    "# 这些 NumPy 数组随后被传递给 torch.tensor，以创建 PyTorch 张量。\n",
    "# X, y：\n",
    "# X 是输入特征的张量，通常用于模型的输入。\n",
    "# y 是目标值（标签）的张量，通常用于模型的输出或监督学习中的目标。\n",
    "#传统python默认float64,计算比较慢，对深度学习来讲通常用32位浮点数，后面会讲到"
   ]
  },
  {
   "cell_type": "code",
   "execution_count": null,
   "id": "9cf16702",
   "metadata": {},
   "outputs": [],
   "source": []
  }
 ],
 "metadata": {
  "kernelspec": {
   "display_name": "d2l-zh",
   "language": "python",
   "name": "d2l-zh"
  },
  "language_info": {
   "codemirror_mode": {
    "name": "ipython",
    "version": 3
   },
   "file_extension": ".py",
   "mimetype": "text/x-python",
   "name": "python",
   "nbconvert_exporter": "python",
   "pygments_lexer": "ipython3",
   "version": "3.8.20"
  }
 },
 "nbformat": 4,
 "nbformat_minor": 5
}
